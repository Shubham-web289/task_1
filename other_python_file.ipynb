{
 "cells": [
  {
   "cell_type": "code",
   "execution_count": 22,
   "id": "8d63cd97-d8af-4a8a-b702-d7b034c95711",
   "metadata": {
    "tags": []
   },
   "outputs": [],
   "source": [
    "import os\n",
    "import re\n",
    "\n",
    "ls = os.listdir()\n",
    "ls\n",
    "\n",
    "count = len(list(filter(lambda x : x.endswith(\"ipynb\"),ls)))\n",
    "count"
   ]
  }
 ],
 "metadata": {
  "kernelspec": {
   "display_name": "conda_python3",
   "language": "python",
   "name": "conda_python3"
  },
  "language_info": {
   "codemirror_mode": {
    "name": "ipython",
    "version": 3
   },
   "file_extension": ".py",
   "mimetype": "text/x-python",
   "name": "python",
   "nbconvert_exporter": "python",
   "pygments_lexer": "ipython3",
   "version": "3.10.13"
  }
 },
 "nbformat": 4,
 "nbformat_minor": 5
}
